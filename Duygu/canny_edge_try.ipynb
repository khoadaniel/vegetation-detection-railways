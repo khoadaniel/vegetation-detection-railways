{
 "cells": [
  {
   "cell_type": "code",
   "execution_count": 3,
   "metadata": {},
   "outputs": [],
   "source": [
    "import os\n",
    "import cv2\n",
    "import numpy as np\n",
    "import glob\n",
    "from matplotlib import pyplot as plt\n",
    "from matplotlib.pyplot import figure\n",
    "from keras.utils import to_categorical\n",
    "from sklearn.model_selection import train_test_split\n",
    "from PIL import Image\n",
    "import segmentation_models as sm\n",
    "from tensorflow.keras.metrics import MeanIoU\n",
    "from sklearn.preprocessing import MinMaxScaler, StandardScaler\n",
    "import random\n",
    "import pandas as pd\n",
    "import seaborn as sns "
   ]
  },
  {
   "cell_type": "code",
   "execution_count": 5,
   "metadata": {},
   "outputs": [
    {
     "data": {
      "text/plain": [
       "array(['rs02096.jpg', 'rs07844.jpg', 'rs06555.jpg', ..., 'rs08401.jpg',\n",
       "       'rs06969.jpg', 'rs05051.jpg'], dtype=object)"
      ]
     },
     "execution_count": 5,
     "metadata": {},
     "output_type": "execute_result"
    }
   ],
   "source": [
    "# importing the tram_csv\n",
    "tram_df = pd.read_csv('tram_filenames.csv')\n",
    "tram_df.drop(columns=tram_df.columns[0], axis=1, inplace=True)\n",
    "tram_jpg = np.array(tram_df.filename_jpg)\n",
    "tram_jpg"
   ]
  },
  {
   "cell_type": "code",
   "execution_count": null,
   "metadata": {},
   "outputs": [],
   "source": [
    "# Setting up the directory for the files \n",
    "path_images = 'rs19_val/jpgs/rs19_val/'\n",
    "path_masks = 'rs19_val/uint8/rs19_val/' \n",
    "\n",
    "# Setting up a breaker for test run \n",
    "#breaker = 0\n",
    "\n",
    "# Setting up empty lists for image & mask dataset \n",
    "image_dataset = []\n",
    "mask_dataset = []\n",
    "\n",
    "# Setting up the label of interest: \n",
    "label_of_interest = 8 #veg\n",
    "\n",
    "# For loop \n",
    "for filename in os.listdir(path_images):\n",
    "    if filename.endswith('.jpg') and filename in tram_jpg:\n",
    "        image = Image.open(path_images+filename)\n",
    "        image = np.array(image.resize((256, 256),3))\n",
    "        mask = Image.open(path_masks+filename[:7]+'.png')\n",
    "        mask = np.array(mask.resize((256,256),3))\n",
    "        mask = np.expand_dims(mask, axis=2)\n",
    "        for layer in range(len(mask[0,0,:])):\n",
    "            #mask[:int(256/2),:,layer]=0\n",
    "            mask[:,:,layer][mask[:,:,layer]!=label_of_interest]=0\n",
    "            mask[:,:,layer][mask[:,:,layer]==label_of_interest]=1\n",
    "        image_dataset.append(image)\n",
    "        mask_dataset.append(mask)\n",
    "\n",
    "image_dataset = np.array(image_dataset)\n",
    "mask_dataset = np.array(mask_dataset)\n",
    "mask_dataset = mask_dataset[:,:,:,0]\n",
    "print('image: ', image_dataset.shape)\n",
    "print('mask: ', mask_dataset.shape)\n",
    "\n",
    "mask_dataset = np.expand_dims(mask_dataset, axis=3)\n",
    "print('image: ', image_dataset.shape)\n",
    "print('mask: ', mask_dataset.shape)\n",
    "\n",
    "print('unique labels in mask', np.unique(mask_dataset))"
   ]
  },
  {
   "cell_type": "code",
   "execution_count": null,
   "metadata": {},
   "outputs": [],
   "source": [
    "# Sanity check: Do images and masks match? \n",
    "image_number = np.random.randint(0,len(image_dataset))\n",
    "plt.figure(figsize=(12,6))\n",
    "plt.subplot(121)\n",
    "plt.imshow(image_dataset[image_number])\n",
    "plt.subplot(122)\n",
    "plt.imshow(mask_dataset[image_number])\n",
    "plt.show()"
   ]
  }
 ],
 "metadata": {
  "kernelspec": {
   "display_name": "Python 3.9.7 ('base')",
   "language": "python",
   "name": "python3"
  },
  "language_info": {
   "codemirror_mode": {
    "name": "ipython",
    "version": 3
   },
   "file_extension": ".py",
   "mimetype": "text/x-python",
   "name": "python",
   "nbconvert_exporter": "python",
   "pygments_lexer": "ipython3",
   "version": "3.9.7"
  },
  "orig_nbformat": 4,
  "vscode": {
   "interpreter": {
    "hash": "ad2bdc8ecc057115af97d19610ffacc2b4e99fae6737bb82f5d7fb13d2f2c186"
   }
  }
 },
 "nbformat": 4,
 "nbformat_minor": 2
}
